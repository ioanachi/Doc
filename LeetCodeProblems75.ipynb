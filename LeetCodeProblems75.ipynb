{
 "cells": [
  {
   "cell_type": "markdown",
   "metadata": {},
   "source": [
    "### Compare and verify that it is the same tree\n",
    "\n",
    "#### - https://leetcode.com/problems/same-tree/\n",
    "Given the roots of two binary trees p and q, write a function to check if they are the same or not.\n",
    "\n",
    "Two binary trees are considered the same if they are structurally identical, and the nodes have the same value."
   ]
  },
  {
   "cell_type": "code",
   "execution_count": null,
   "metadata": {},
   "outputs": [],
   "source": [
    "class Solution:\n",
    "    def isSameTree(self, p:TreeNode, q:treeNode) -> bool:\n",
    "        if not p and not q:\n",
    "            return True\n",
    "        if not p or not q: # executes after checking if both of them are empty\n",
    "            return False\n",
    "        if p.val != q.val: # if root node of this iteration is different then they are different trees\n",
    "            return False\n",
    "        \n",
    "        return self.isSameTree(p.left, q.left) and self.isSameTree(p.right, q.right)\n"
   ]
  },
  {
   "cell_type": "markdown",
   "metadata": {},
   "source": [
    "### Subtree of another Tree  \n",
    "#### - https://leetcode.com/problems/subtree-of-another-tree/\n",
    "\n",
    "Given the roots of two binary trees root and subRoot, return true if there is a subtree of root with the same structure and node values of subRoot and false otherwise.\n",
    "\n",
    "A subtree of a binary tree tree is a tree that consists of a node in tree and all of this node's descendants. The tree tree could also be considered as a subtree of itself.\n",
    "\n",
    " \n",
    "\n",
    "Example 1:\n",
    "\n",
    "Input: root = [3,4,5,1,2], subRoot = [4,1,2]\n",
    "Output: true\n"
   ]
  },
  {
   "cell_type": "code",
   "execution_count": null,
   "metadata": {},
   "outputs": [],
   "source": [
    "class Solution:\n",
    "    def isSubtree(self, s: TreeNode, t:TreeNode) -> bool:\n",
    "        if not t: return True\n",
    "        if not s: return False # because t is already not False\n",
    "\n",
    "        if self.sameTree(s,t):\n",
    "            return True\n",
    "        return (self.isSubtree(s.right, t) or self.isSubtree(s.left, t))\n",
    "\n",
    "\n",
    "\n",
    "    def sameTree(self, s: TreeNode, t:TreeNode) -> bool:\n",
    "        if not s and not t:\n",
    "            return True\n",
    "        if s and t and s.val == t.val:\n",
    "            return (self.sameTree(s.right, t.right) and self.sameTree(s.left, t.left))\n",
    "        return False"
   ]
  },
  {
   "cell_type": "markdown",
   "metadata": {},
   "source": [
    "### Lowest common ancestor of a binary search Tree\n",
    "#### - https://leetcode.com/problems/lowest-common-ancestor-of-a-binary-search-tree/\n",
    "Given a binary search tree (BST), find the lowest common ancestor (LCA) node of two given nodes in the BST.\n",
    "\n",
    "According to the definition of LCA on Wikipedia: “The lowest common ancestor is defined between two nodes p and q as the lowest node in T that has both p and q as descendants (where we allow a node to be a descendant of itself).”\n",
    "\n",
    " \n",
    "\n",
    "Example 1:\n",
    "\n",
    "Input: root = [6,2,8,0,4,7,9,null,null,3,5], p = 2, q = 8\n",
    "Output: 6\n",
    "Explanation: The LCA of nodes 2 and 8 is 6.\n"
   ]
  },
  {
   "cell_type": "code",
   "execution_count": null,
   "metadata": {},
   "outputs": [],
   "source": [
    "class Solution:\n",
    "    def lowestCommonAncestor(self, root:'TreeNode', p:'TreeNode', q:'TreeNode') -> 'TreeNode':\n",
    "        current = root\n",
    "\n",
    "        while current:\n",
    "            if p.val > current.val and q.val> current.val:\n",
    "                current = current.right\n",
    "\n",
    "            elif p.val < current.val and q.val < current.val:\n",
    "                current = current.left\n",
    "            else:\n",
    "                return current "
   ]
  },
  {
   "cell_type": "markdown",
   "metadata": {},
   "source": [
    "### Binary tree Level Order Traversal\n",
    "#### - https://leetcode.com/problems/binary-tree-level-order-traversal/\n",
    "Given the root of a binary tree, return the level order traversal of its nodes' values. (i.e., from left to right, level by level).\n",
    "\n",
    " \n",
    "\n",
    "Example 1:\n",
    "\n",
    "Input: root = [3,9,20,null,null,15,7]\n",
    "Output: [[3],[9,20],[15,7]]\n",
    "\n",
    "Example 2:\n",
    "\n",
    "Input: root = [1]\n",
    "Output: [[1]]\n",
    "\n",
    "Example 3:\n",
    "\n",
    "Input: root = []\n",
    "Output: []\n",
    "\n",
    " "
   ]
  },
  {
   "cell_type": "markdown",
   "metadata": {},
   "source": [
    "#### Explanation:  - use Breath For Search level order traversal:\n",
    "\n",
    "- create a queue in which you add the root element - we add all elements one by one \n",
    "- eliminate \"first in - first out\"  - which is added to the sublist and we add it's chidren to the queue\n",
    "\n",
    "\n",
    "ex:\n",
    "1. add 3 to the queue\n",
    "2. add it's children to the queue\n",
    "3. eliminate 3 from the queue and add him to the first sublist\n",
    "\n",
    "5. eliminate 9 from the queue and don't add anything because it des not have children \n",
    "6.  add 9 to the second list \n",
    "7. eliminate 20 from the queue \n",
    "8. add it's children to the queue - 15 and 7 \n",
    "9. add 20 to the second list \n",
    "\n",
    "\n"
   ]
  },
  {
   "cell_type": "code",
   "execution_count": null,
   "metadata": {},
   "outputs": [],
   "source": [
    "class Solution:\n",
    "    def levelOrder(self, root: 'TreeNode') -> list[list[int]]:\n",
    "        resulted_list = []\n",
    "        q = collections.deque() # create a queue\n",
    "        q.append(root) # always append root - first level\n",
    "\n",
    "        while q:\n",
    "            level =[] # create a sublist\n",
    "\n",
    "            node = q.popleft() # remove the left node - first in first out\n",
    "\n",
    "            if node:\n",
    "                level.append(node) # add the node to the level\n",
    "                q.append(node.left)\n",
    "                q.append(node.right) # add children to the queue\n",
    "\n",
    "            if level:\n",
    "                resulted_list.append(level) # add the sublist only if is not empty\n",
    "            \n",
    "        return resulted_list\n",
    " \n",
    "\n"
   ]
  },
  {
   "cell_type": "markdown",
   "metadata": {},
   "source": [
    "### Validate Binary Search Tree\n",
    "\n",
    "#### https://leetcode.com/problems/validate-binary-search-tree/\n",
    "\n",
    "Given the root of a binary tree, determine if it is a valid binary search tree (BST).\n",
    "\n",
    "A valid BST is defined as follows: - all nodes of the right need to be more than the root and all nodes on the left need to be less than the root- rule valid for each subtree\n",
    "\n",
    "    The left subtree of a node contains only nodes with keys less than the node's key.\n",
    "    The right subtree of a node contains only nodes with keys greater than the node's key.\n",
    "    Both the left and right subtrees must also be binary search trees.\n",
    "\n",
    "Example 1:\n",
    "Input: root = [2,1,3]\n",
    "Output: true\n",
    "\n",
    "Example 2:\n",
    "Input: root = [5,1,4,null,null,3,6]\n",
    "Output: false\n",
    "Explanation: The root node's value is 5 but its right child's value is 4."
   ]
  },
  {
   "cell_type": "markdown",
   "metadata": {},
   "source": [
    "Rules:\n",
    "- -inf < Root < +inf\n",
    "\n",
    "-        1leftN < root\n",
    "- root < 1rightN \n",
    "\n",
    "-           2leftLeftN  < 1leftN\n",
    "- 1leftN  < 2leftRightN < Root\n",
    "- root    < 2rightLeftN < 1rightN\n",
    "- 1rightN < 2rightRightN \n",
    "\n",
    "\n"
   ]
  },
  {
   "cell_type": "code",
   "execution_count": null,
   "metadata": {},
   "outputs": [],
   "source": [
    "class Solution:\n",
    "    def isValidBinarySearchTree(self, root:'TreeNode') -> bool:\n",
    "\n",
    "        def valid(node,left,right):\n",
    "            if not node:\n",
    "                return True\n",
    "            if not (node.val >left and node.val< right):\n",
    "                return False\n",
    "            return (self.valid(node.left, left , node.val ) and \n",
    "                    self.valid(node.right, node.val, right))\n",
    "        return self.valid(root, float(\"-inf\"), float(\"inf\"))\n"
   ]
  },
  {
   "cell_type": "markdown",
   "metadata": {},
   "source": [
    "### K'th smallest element in a binary search tree\n",
    "#### - https://leetcode.com/problems/kth-smallest-element-in-a-bst/\n",
    "Given the root of a binary search tree, and an integer k, return the kth smallest value (1-indexed) of all the values of the nodes in the tree.\n",
    "\n",
    " \n",
    "\n",
    "Example 1:\n",
    "\n",
    "Input: root = [3,1,4,null,2], k = 1\n",
    "Output: 1\n",
    "\n",
    "Example 2:\n",
    "\n",
    "Input: root = [5,3,6,2,4,null,null,1], k = 3\n",
    "Output: 3"
   ]
  },
  {
   "cell_type": "markdown",
   "metadata": {},
   "source": [
    "Iterative Solution:\n",
    "\n",
    "- create a stack, add the root to the stack and go left (there are the smallest nodes)\n",
    "- keep going left until the current is null- if null then go up and add th node to the stack\n",
    "- go right afterwards and left and then right and if null go up and add to the stack\n",
    "- go up eliminate current from the stack and add to the stack the one up\n",
    "\n"
   ]
  },
  {
   "cell_type": "code",
   "execution_count": null,
   "metadata": {},
   "outputs": [],
   "source": [
    "class Solution:\n",
    "    def kthSmallest(self, root:\"TreeNode\", k:int) -> int:\n",
    "        stack = []\n",
    "        n = 0\n",
    "        current = root\n",
    "\n",
    "        while current or stack:\n",
    "#atat timp cat exist un nod curent sau stackul nu e gol mergi mai departe\n",
    "\n",
    "            while current:\n",
    "# daca exista current il pui in stack si mergi mai departe in stanga\n",
    "                stack.append(current)\n",
    "                current = current.left\n",
    "# daca nu mai exista noduri in stanga urci la ultimul nod adaugat - \n",
    "# incrementezi nr cu 1 pentru ca mai mic ca el nu exista si apoi setezi sa mearga la dreapta\n",
    "            current = stack.pop()\n",
    "            n +=1\n",
    "            if n==k:\n",
    "                return current.val\n",
    "            \n",
    "            current = current.right\n",
    "\n",
    "\n",
    "\n",
    "\n"
   ]
  },
  {
   "cell_type": "markdown",
   "metadata": {},
   "source": [
    "### Construct binary tree from preorder and Inorder Traversal\n",
    "#### https://leetcode.com/problems/construct-binary-tree-from-preorder-and-inorder-traversal/\n",
    "\n",
    "Given two integer arrays preorder and inorder where preorder is the preorder traversal of a binary tree and inorder is the inorder traversal of the same tree, construct and return the binary tree.\n",
    "\n",
    "Example 1:\n",
    "Input: preorder = [3,9,20,15,7], inorder = [9,3,15,20,7]\n",
    "Output: [3,9,20,null,null,15,7]\n",
    "\n",
    "Example 2:\n",
    "Input: preorder = [-1], inorder = [-1]\n",
    "Output: [-1]\n",
    "\n",
    "Constraints:\n",
    "    1 <= preorder.length <= 3000\n",
    "    inorder.length == preorder.length\n",
    "    -3000 <= preorder[i], inorder[i] <= 3000\n",
    "    preorder and inorder consist of unique values.\n",
    "    Each value of inorder also appears in preorder.\n",
    "    preorder is guaranteed to be the preorder traversal of the tree.\n",
    "    inorder is guaranteed to be the inorder traversal of the tree.\n",
    "\n"
   ]
  },
  {
   "cell_type": "markdown",
   "metadata": {},
   "source": [
    "Solution explained:\n",
    "\n",
    "First element of preorder is the root.\n",
    "Add the root to your new array\n",
    "- next element after root in the preorder is the root of another subtree\n",
    "- find the index of the next element from preorder inside the inorder array\n",
    "- add the element to the new array \n",
    "-  call the index  of this mid and create subtrees from the inorder array - to the left of mid there is the left subtree and to the right there is the right subtree\n",
    "\n",
    "- repeat"
   ]
  },
  {
   "cell_type": "code",
   "execution_count": 2,
   "metadata": {},
   "outputs": [
    {
     "ename": "NameError",
     "evalue": "name 'TreeNode' is not defined",
     "output_type": "error",
     "traceback": [
      "\u001b[1;31m---------------------------------------------------------------------------\u001b[0m",
      "\u001b[1;31mNameError\u001b[0m                                 Traceback (most recent call last)",
      "Cell \u001b[1;32mIn[2], line 1\u001b[0m\n\u001b[1;32m----> 1\u001b[0m \u001b[39mclass\u001b[39;49;00m \u001b[39mSolution\u001b[39;49;00m:\n\u001b[0;32m      2\u001b[0m     \u001b[39mdef\u001b[39;49;00m \u001b[39mbuildtree\u001b[39;49m(\u001b[39mself\u001b[39;49m, preorder, inorder) \u001b[39m-\u001b[39;49m\u001b[39m>\u001b[39;49m TreeNode:\n\u001b[0;32m      3\u001b[0m         \u001b[39mif\u001b[39;49;00m \u001b[39mnot\u001b[39;49;00m preorder \u001b[39mor\u001b[39;49;00m \u001b[39mnot\u001b[39;49;00m inorder:\n",
      "Cell \u001b[1;32mIn[2], line 2\u001b[0m, in \u001b[0;36mSolution\u001b[1;34m()\u001b[0m\n\u001b[0;32m      1\u001b[0m \u001b[39mclass\u001b[39;00m \u001b[39mSolution\u001b[39;00m:\n\u001b[1;32m----> 2\u001b[0m     \u001b[39mdef\u001b[39;00m \u001b[39mbuildtree\u001b[39m(\u001b[39mself\u001b[39m, preorder, inorder) \u001b[39m-\u001b[39m\u001b[39m>\u001b[39m TreeNode:\n\u001b[0;32m      3\u001b[0m         \u001b[39mif\u001b[39;00m \u001b[39mnot\u001b[39;00m preorder \u001b[39mor\u001b[39;00m \u001b[39mnot\u001b[39;00m inorder:\n\u001b[0;32m      4\u001b[0m             \u001b[39mreturn\u001b[39;00m \u001b[39mNone\u001b[39;00m\n",
      "\u001b[1;31mNameError\u001b[0m: name 'TreeNode' is not defined"
     ]
    }
   ],
   "source": [
    "class Solution:\n",
    "    def buildtree(self, preorder, inorder) -> TreeNode:\n",
    "        if not preorder or not inorder:\n",
    "            return None\n",
    "         \n",
    "        root = TreeNode(preorder[0])\n",
    "        mid = inorder.index(preorder[0])\n",
    "        root.left = self.buildtree(preorder[:mid+1], inorder[:mid])\n",
    "        root.right = self.buildtree(preorder[mid+1:], inorder[mid:])\n",
    "        return root\n",
    "\n",
    "\n",
    "    "
   ]
  },
  {
   "cell_type": "markdown",
   "metadata": {},
   "source": [
    "### Binary Tree Maximum Path Sum\n",
    "#### https://leetcode.com/problems/binary-tree-maximum-path-sum/\n",
    "\n",
    "A path in a binary tree is a sequence of nodes where each pair of adjacent nodes in the sequence has an edge connecting them. A node can only appear in the sequence at most once. Note that the path does not need to pass through the root.\n",
    "The path sum of a path is the sum of the node's values in the path.\n",
    "Given the root of a binary tree, return the maximum path sum of any non-empty path.\n",
    "\n",
    "Example 1:\n",
    "Input: root = [1,2,3]\n",
    "Output: 6\n",
    "Explanation: The optimal path is 2 -> 1 -> 3 with a path sum of 2 + 1 + 3 = 6.\n",
    "\n",
    "Example 2:\n",
    "Input: root = [-10,9,20,null,null,15,7]\n",
    "Output: 42\n",
    "Explanation: The optimal path is 15 -> 20 -> 7 with a path sum of 15 + 20 + 7 = 42.\n",
    "\n",
    "Constraints:\n",
    "    The number of nodes in the tree is in the range [1, 3 * 104].\n",
    "    -1000 <= Node.val <= 1000"
   ]
  },
  {
   "cell_type": "markdown",
   "metadata": {},
   "source": [
    "Solution\n",
    "\n"
   ]
  },
  {
   "cell_type": "code",
   "execution_count": null,
   "metadata": {},
   "outputs": [],
   "source": [
    "class Solution(object):\n",
    "    def maxPathSum(self, root):\n",
    "        \"\"\"\n",
    "        :type root: TreeNode\n",
    "        :rtype: int\n",
    "        \"\"\"\n",
    "\n",
    "\n",
    "\n",
    "\n",
    "        "
   ]
  },
  {
   "cell_type": "code",
   "execution_count": null,
   "metadata": {},
   "outputs": [],
   "source": []
  },
  {
   "cell_type": "code",
   "execution_count": null,
   "metadata": {},
   "outputs": [],
   "source": []
  },
  {
   "cell_type": "code",
   "execution_count": null,
   "metadata": {},
   "outputs": [],
   "source": []
  },
  {
   "cell_type": "code",
   "execution_count": null,
   "metadata": {},
   "outputs": [],
   "source": []
  }
 ],
 "metadata": {
  "kernelspec": {
   "display_name": "Python 3",
   "language": "python",
   "name": "python3"
  },
  "language_info": {
   "codemirror_mode": {
    "name": "ipython",
    "version": 3
   },
   "file_extension": ".py",
   "mimetype": "text/x-python",
   "name": "python",
   "nbconvert_exporter": "python",
   "pygments_lexer": "ipython3",
   "version": "3.11.5"
  },
  "orig_nbformat": 4
 },
 "nbformat": 4,
 "nbformat_minor": 2
}
