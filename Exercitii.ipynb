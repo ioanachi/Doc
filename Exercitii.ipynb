{
 "cells": [
  {
   "cell_type": "code",
   "execution_count": null,
   "metadata": {},
   "outputs": [],
   "source": [
    "# Fa o lista cu numere de la 1 la 7  (tip A)\n",
    "listA= []\n",
    "for i in range(1,8):\n",
    "    listA.append(i)\n",
    "\n",
    "print(listA)\n"
   ]
  },
  {
   "cell_type": "code",
   "execution_count": null,
   "metadata": {},
   "outputs": [],
   "source": [
    "#Fa o alta lista, ce contine liste cu numere de la 1 la 7. Sa contina 5 astfel de liste. Si la fiecare lista, adaugi 10 * indexul listei. De ex. prima lista e [1, 2, ... 7], a doua lista din aceata lista mai mare, e [11, 12, ...  17], a treia e [21, 22, ...27]  (ii zicem tip B)\n",
    "listB=[]\n",
    "\n",
    "for i in range(5):\n",
    "    inner_list = []\n",
    "    print(listB)\n",
    "    for x in range(1,8):\n",
    "        inner_list.append(i*10 +x)\n",
    "    listB.append(inner_list) \n",
    " \n",
    "\n",
    "print(listB)"
   ]
  },
  {
   "cell_type": "code",
   "execution_count": null,
   "metadata": {},
   "outputs": [],
   "source": [
    "#Fa inca o lista, ce contine mai multe liste de liste de tip B. 3 astfel de liste Dar la fiecare astfel de lista de tip B, adaugi 100*index. Astfel, prima lista de tip B incepe tot cu 1,2   dar a 2-a lista incepe cu 101 102 etc.\n",
    "listC=[]\n",
    "\n",
    "for j in range(3):\n",
    "    listCB = []\n",
    "    for i in range(5):\n",
    "        listCA = []\n",
    "        for x in range(1,8):\n",
    "            listCA.append(j*100 +10*i + x)\n",
    "\n",
    "        listCB.append(listCA)\n",
    "    listC.append(listCB)\n",
    "\n",
    "print(listC)"
   ]
  },
  {
   "cell_type": "code",
   "execution_count": null,
   "metadata": {},
   "outputs": [],
   "source": [
    "# Din lista aia de liste de liste, faci un array numpy. \n",
    "ndArr = np.array(listC)\n",
    "print(ndArr)\n",
    "\n"
   ]
  },
  {
   "cell_type": "code",
   "execution_count": null,
   "metadata": {},
   "outputs": [],
   "source": [
    "#Cum arata daca selectezi, pe verticala, toate celulele de coordonate (rand 2, coloana 3), pe verticala, din toate foile?\n",
    "coord23 = ndArr[:, 2, 3]\n",
    "\n",
    "# Print the selected cells\n",
    "print(coord23)\n",
    "\n",
    "coord4 = ndArr[:, :, 4]\n",
    "print(coord4)\n",
    "\n",
    "\n"
   ]
  },
  {
   "cell_type": "code",
   "execution_count": null,
   "metadata": {},
   "outputs": [],
   "source": []
  },
  {
   "cell_type": "code",
   "execution_count": null,
   "metadata": {},
   "outputs": [],
   "source": []
  }
 ],
 "metadata": {
  "language_info": {
   "name": "python"
  },
  "orig_nbformat": 4
 },
 "nbformat": 4,
 "nbformat_minor": 2
}
