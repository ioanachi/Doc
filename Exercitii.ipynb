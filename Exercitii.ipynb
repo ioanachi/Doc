{
 "cells": [
  {
   "cell_type": "code",
   "execution_count": 28,
   "metadata": {},
   "outputs": [
    {
     "name": "stdout",
     "output_type": "stream",
     "text": [
      "[1, 2, 3, 4, 5, 6, 7]\n"
     ]
    }
   ],
   "source": [
    "# Fa o lista cu numere de la 1 la 7  (tip A)\n",
    "listA= []\n",
    "for i in range(1,8):\n",
    "    listA.append(i)\n",
    "\n",
    "print(listA)\n"
   ]
  },
  {
   "cell_type": "code",
   "execution_count": 29,
   "metadata": {},
   "outputs": [
    {
     "name": "stdout",
     "output_type": "stream",
     "text": [
      "[]\n",
      "[[1, 2, 3, 4, 5, 6, 7]]\n",
      "[[1, 2, 3, 4, 5, 6, 7], [11, 12, 13, 14, 15, 16, 17]]\n",
      "[[1, 2, 3, 4, 5, 6, 7], [11, 12, 13, 14, 15, 16, 17], [21, 22, 23, 24, 25, 26, 27]]\n",
      "[[1, 2, 3, 4, 5, 6, 7], [11, 12, 13, 14, 15, 16, 17], [21, 22, 23, 24, 25, 26, 27], [31, 32, 33, 34, 35, 36, 37]]\n",
      "[[1, 2, 3, 4, 5, 6, 7], [11, 12, 13, 14, 15, 16, 17], [21, 22, 23, 24, 25, 26, 27], [31, 32, 33, 34, 35, 36, 37], [41, 42, 43, 44, 45, 46, 47]]\n"
     ]
    }
   ],
   "source": [
    "#Fa o alta lista, ce contine liste cu numere de la 1 la 7. Sa contina 5 astfel de liste. Si la fiecare lista, adaugi 10 * indexul listei. De ex. prima lista e [1, 2, ... 7], a doua lista din aceata lista mai mare, e [11, 12, ...  17], a treia e [21, 22, ...27]  (ii zicem tip B)\n",
    "listB=[]\n",
    "\n",
    "for i in range(5):\n",
    "    inner_list = []\n",
    "    print(listB)\n",
    "    for x in range(1,8):\n",
    "        inner_list.append(i*10 +x)\n",
    "    listB.append(inner_list) \n",
    " \n",
    "\n",
    "print(listB)"
   ]
  },
  {
   "cell_type": "code",
   "execution_count": 30,
   "metadata": {},
   "outputs": [
    {
     "name": "stdout",
     "output_type": "stream",
     "text": [
      "[[[1, 2, 3, 4, 5, 6, 7], [11, 12, 13, 14, 15, 16, 17], [21, 22, 23, 24, 25, 26, 27], [31, 32, 33, 34, 35, 36, 37], [41, 42, 43, 44, 45, 46, 47]], [[101, 102, 103, 104, 105, 106, 107], [111, 112, 113, 114, 115, 116, 117], [121, 122, 123, 124, 125, 126, 127], [131, 132, 133, 134, 135, 136, 137], [141, 142, 143, 144, 145, 146, 147]], [[201, 202, 203, 204, 205, 206, 207], [211, 212, 213, 214, 215, 216, 217], [221, 222, 223, 224, 225, 226, 227], [231, 232, 233, 234, 235, 236, 237], [241, 242, 243, 244, 245, 246, 247]]]\n"
     ]
    }
   ],
   "source": [
    "#Fa inca o lista, ce contine mai multe liste de liste de tip B. 3 astfel de liste Dar la fiecare astfel de lista de tip B, adaugi 100*index. Astfel, prima lista de tip B incepe tot cu 1,2   dar a 2-a lista incepe cu 101 102 etc.\n",
    "listC=[]\n",
    "\n",
    "for j in range(3):\n",
    "    listCB = []\n",
    "    for i in range(5):\n",
    "        listCA = []\n",
    "        for x in range(1,8):\n",
    "            listCA.append(j*100 +10*i + x)\n",
    "\n",
    "        listCB.append(listCA)\n",
    "    listC.append(listCB)\n",
    "\n",
    "print(listC)"
   ]
  },
  {
   "cell_type": "code",
   "execution_count": 31,
   "metadata": {},
   "outputs": [
    {
     "name": "stdout",
     "output_type": "stream",
     "text": [
      "[[[  1   2   3   4   5   6   7]\n",
      "  [ 11  12  13  14  15  16  17]\n",
      "  [ 21  22  23  24  25  26  27]\n",
      "  [ 31  32  33  34  35  36  37]\n",
      "  [ 41  42  43  44  45  46  47]]\n",
      "\n",
      " [[101 102 103 104 105 106 107]\n",
      "  [111 112 113 114 115 116 117]\n",
      "  [121 122 123 124 125 126 127]\n",
      "  [131 132 133 134 135 136 137]\n",
      "  [141 142 143 144 145 146 147]]\n",
      "\n",
      " [[201 202 203 204 205 206 207]\n",
      "  [211 212 213 214 215 216 217]\n",
      "  [221 222 223 224 225 226 227]\n",
      "  [231 232 233 234 235 236 237]\n",
      "  [241 242 243 244 245 246 247]]]\n"
     ]
    }
   ],
   "source": [
    "# Din lista aia de liste de liste, faci un array numpy. \n",
    "ndArr = np.array(listC)\n",
    "print(ndArr)\n",
    "\n"
   ]
  },
  {
   "cell_type": "code",
   "execution_count": 32,
   "metadata": {},
   "outputs": [
    {
     "name": "stdout",
     "output_type": "stream",
     "text": [
      "[ 24 124 224]\n",
      "[[  5  15  25  35  45]\n",
      " [105 115 125 135 145]\n",
      " [205 215 225 235 245]]\n"
     ]
    }
   ],
   "source": [
    "#Cum arata daca selectezi, pe verticala, toate celulele de coordonate (rand 2, coloana 3), pe verticala, din toate foile?\n",
    "coord23 = ndArr[:, 2, 3]\n",
    "\n",
    "# Print the selected cells\n",
    "print(coord23)\n",
    "\n",
    "coord4 = ndArr[:, :, 4]\n",
    "print(coord4)\n",
    "\n",
    "\n"
   ]
  },
  {
   "cell_type": "code",
   "execution_count": 33,
   "metadata": {},
   "outputs": [],
   "source": [
    "import numpy as np"
   ]
  },
  {
   "cell_type": "code",
   "execution_count": 34,
   "metadata": {},
   "outputs": [
    {
     "name": "stdout",
     "output_type": "stream",
     "text": [
      "[[1. 0. 0. 0.]\n",
      " [0. 1. 0. 0.]\n",
      " [0. 0. 1. 0.]\n",
      " [0. 0. 0. 1.]]\n"
     ]
    }
   ],
   "source": [
    "#Create a 4x4 identity matrix using NumPy.\n",
    "idM = np.eye(4,4)\n",
    "print(idM)"
   ]
  },
  {
   "cell_type": "code",
   "execution_count": 35,
   "metadata": {},
   "outputs": [
    {
     "name": "stdout",
     "output_type": "stream",
     "text": [
      "[[10 12  9 10  2]\n",
      " [19 16 14  8 12]\n",
      " [ 4 17 18  7  2]\n",
      " [ 5 14  3  1 11]]\n"
     ]
    }
   ],
   "source": [
    "#Create a NumPy array containing the numbers from 1 to 20. Reshape it into a 4x5 matrix.\n",
    "arr = np.random.randint(1,20, (1, 20))\n",
    "arr = np.reshape(arr,(4,5))\n",
    "print(arr)\n"
   ]
  },
  {
   "cell_type": "code",
   "execution_count": 36,
   "metadata": {},
   "outputs": [
    {
     "name": "stdout",
     "output_type": "stream",
     "text": [
      "[[1 2 3]\n",
      " [4 5 6]\n",
      " [7 8 9]]\n",
      "[[1 4 7]\n",
      " [2 5 8]\n",
      " [3 6 9]]\n"
     ]
    }
   ],
   "source": [
    "# transpose an array You can transpose a NumPy array using the .T attribute or the numpy.transpose() function. Here's how you can transpose your array arr:\n",
    "\n",
    "\n",
    "arr = np.array([[1, 2, 3], [4, 5, 6], [7, 8, 9]])\n",
    "print(arr)\n",
    "print(arr.T)"
   ]
  },
  {
   "cell_type": "code",
   "execution_count": 37,
   "metadata": {},
   "outputs": [],
   "source": [
    "#MAtrix multiplication\n",
    "\n",
    "arr1 = np.array([[1, 2], [3, 4]])\n",
    "arr2 = np.array([[5, 6], [7, 8]])\n",
    "\n",
    "result = np.dot(arr1, arr2)"
   ]
  },
  {
   "cell_type": "code",
   "execution_count": 38,
   "metadata": {},
   "outputs": [
    {
     "name": "stdout",
     "output_type": "stream",
     "text": [
      "[[4 3 1 2 0 8 1 5 7 0]]\n",
      "[4 2 0 8 0]\n"
     ]
    }
   ],
   "source": [
    "#Create a NumPy array containing the numbers from 0 to 9. Extract all even numbers from the array.\n",
    "randArr = np.random.randint(0,9, (1,10))\n",
    "print(randArr)\n",
    "evenNr = randArr[randArr%2 ==0]\n",
    "print(evenNr)\n"
   ]
  },
  {
   "cell_type": "code",
   "execution_count": 39,
   "metadata": {},
   "outputs": [
    {
     "name": "stdout",
     "output_type": "stream",
     "text": [
      "[[ 7  1  4]\n",
      " [10  9 10]\n",
      " [ 9  7  8]]\n",
      "[[5 1 4]\n",
      " [5 5 5]\n",
      " [5 5 5]]\n"
     ]
    }
   ],
   "source": [
    "#Create a 3x3 NumPy array containing random integers between 1 and 10. Replace all values greater than 5 with the value 5.\n",
    "\n",
    "arrO = np.random.randint(1,11, (3,3))\n",
    "print(arrO)\n",
    "arrO[arrO > 5 ] = 5\n",
    "print(arrO)\n",
    "\n",
    "\n"
   ]
  },
  {
   "cell_type": "code",
   "execution_count": 40,
   "metadata": {},
   "outputs": [
    {
     "name": "stdout",
     "output_type": "stream",
     "text": [
      "[[12  7  5 14 18]\n",
      " [ 7  4  1  4  8]\n",
      " [19  2 18  8  3]\n",
      " [ 5  7 14  4  8]\n",
      " [ 6 10 15 14  4]]\n",
      "8.68\n",
      "5.236181815025144\n",
      "7.0\n"
     ]
    }
   ],
   "source": [
    "#Create a 5x5 NumPy array with random values. Calculate the mean, median, and standard deviation of the values in the array.\n",
    "arr = np.random.randint(1, 20, (5,5))\n",
    "meanA = arr.mean()\n",
    "stdA = arr.std()\n",
    "mediaN = np.median(arr)\n",
    "\n",
    "print(arr)\n",
    "print(meanA)\n",
    "print(stdA)\n",
    "print(mediaN)\n"
   ]
  },
  {
   "cell_type": "code",
   "execution_count": 41,
   "metadata": {},
   "outputs": [
    {
     "name": "stdout",
     "output_type": "stream",
     "text": [
      "[[0 0 0 0 0 0]\n",
      " [0 0 0 0 0 0]\n",
      " [0 0 0 0 0 0]\n",
      " [0 0 0 0 0 0]\n",
      " [0 0 0 0 0 0]\n",
      " [0 0 0 0 0 0]]\n",
      "[[0 0 0 0 0 0]\n",
      " [0 1 1 1 1 0]\n",
      " [0 1 1 1 1 0]\n",
      " [0 1 1 1 1 0]\n",
      " [0 1 1 1 1 0]\n",
      " [0 0 0 0 0 0]]\n"
     ]
    }
   ],
   "source": [
    "#Create a 6x6 NumPy array of zeros. Replace the middle 4x4 region with ones.\n",
    "array = np.zeros((6, 6), dtype=int)\n",
    "print(array)\n",
    "# Replace the middle region with ones\n",
    "array[1:5, 1:5] = 1\n",
    "\n",
    "# Print the resulting array\n",
    "print(array)"
   ]
  },
  {
   "cell_type": "code",
   "execution_count": 42,
   "metadata": {},
   "outputs": [
    {
     "name": "stdout",
     "output_type": "stream",
     "text": [
      "[[0.94256491 0.68296104 0.47768265 0.88475076]\n",
      " [0.58373623 0.61399081 0.59563197 0.36499676]\n",
      " [0.61225331 0.53963513 0.9415131  0.72824002]\n",
      " [0.35797728 0.86618035 0.38874472 0.16971183]]\n",
      "(0, 0)\n"
     ]
    }
   ],
   "source": [
    "#Create a 4x4 NumPy array with random values. Find the indices (row and column) of the maximum value in the array.\n",
    "\n",
    "arr = np.random.rand(4,4)\n",
    "max_index = np.unravel_index(np.argmax(arr), arr.shape)\n",
    "\n",
    "print(arr)\n",
    "print(max_index)\n",
    "\n",
    "\n"
   ]
  },
  {
   "cell_type": "code",
   "execution_count": 43,
   "metadata": {},
   "outputs": [],
   "source": [
    "import pandas as pd"
   ]
  },
  {
   "cell_type": "code",
   "execution_count": 44,
   "metadata": {},
   "outputs": [
    {
     "name": "stdout",
     "output_type": "stream",
     "text": [
      "a     1.0\n",
      "b     2.0\n",
      "c    13.0\n",
      "d    24.0\n",
      "e    30.0\n",
      "f    40.0\n",
      "dtype: float64\n"
     ]
    }
   ],
   "source": [
    "\n",
    "s1 = pd.Series([1, 2, 3, 4], index=['a', 'b', 'c', 'd'])\n",
    "s2 = pd.Series([10, 20, 30, 40], index=['c', 'd', 'e', 'f'])\n",
    "\n",
    "# Try to write code that will add the 2 previous series together,\n",
    "# but treating missing values from either series as 0. The result\n",
    "# when printed out should be similar to the following line:\n",
    "# print pd.Series([1, 2, 13, 24, 30, 40], index=['a', 'b', 'c', 'd', 'e', 'f'])\n",
    "\n",
    "print( s1.add(s2, fill_value=0))"
   ]
  },
  {
   "cell_type": "code",
   "execution_count": null,
   "metadata": {},
   "outputs": [],
   "source": []
  },
  {
   "cell_type": "code",
   "execution_count": null,
   "metadata": {},
   "outputs": [],
   "source": []
  }
 ],
 "metadata": {
  "kernelspec": {
   "display_name": "Python 3",
   "language": "python",
   "name": "python3"
  },
  "language_info": {
   "codemirror_mode": {
    "name": "ipython",
    "version": 3
   },
   "file_extension": ".py",
   "mimetype": "text/x-python",
   "name": "python",
   "nbconvert_exporter": "python",
   "pygments_lexer": "ipython3",
   "version": "3.11.5"
  },
  "orig_nbformat": 4
 },
 "nbformat": 4,
 "nbformat_minor": 2
}
